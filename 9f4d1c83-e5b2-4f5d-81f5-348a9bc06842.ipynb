{
 "cells": [
  {
   "cell_type": "markdown",
   "id": "mhIvmmkW414q",
   "metadata": {
    "id": "mhIvmmkW414q"
   },
   "source": [
    "# Introducción\n",
    "\n",
    "Instacart es una plataforma de entregas de comestibles donde la clientela puede registrar un pedido y hacer que se lo entreguen, similar a Uber Eats y Door Dash.\n",
    "El conjunto de datos que te hemos proporcionado tiene modificaciones del original. Redujimos el tamaño del conjunto para que tus cálculos se hicieran más rápido e introdujimos valores ausentes y duplicados. Tuvimos cuidado de conservar las distribuciones de los datos originales cuando hicimos los cambios.\n",
    "\n",
    "Debes completar tres pasos. Para cada uno de ellos, escribe una breve introducción que refleje con claridad cómo pretendes resolver cada paso, y escribe párrafos explicatorios que justifiquen tus decisiones al tiempo que avanzas en tu solución.  También escribe una conclusión que resuma tus hallazgos y elecciones.\n"
   ]
  },
  {
   "cell_type": "markdown",
   "id": "3MbyzpOQZ5Or",
   "metadata": {
    "id": "3MbyzpOQZ5Or"
   },
   "source": [
    "## Diccionario de datos\n",
    "\n",
    "Hay cinco tablas en el conjunto de datos, y tendrás que usarlas todas para hacer el preprocesamiento de datos y el análisis exploratorio de datos. A continuación se muestra un diccionario de datos que enumera las columnas de cada tabla y describe los datos que contienen.\n",
    "\n",
    "- `instacart_orders.csv`: cada fila corresponde a un pedido en la aplicación Instacart.\n",
    "    - `'order_id'`: número de ID que identifica de manera única cada pedido.\n",
    "    - `'user_id'`: número de ID que identifica de manera única la cuenta de cada cliente.\n",
    "    - `'order_number'`: el número de veces que este cliente ha hecho un pedido.\n",
    "    - `'order_dow'`: día de la semana en que se hizo el pedido (0 si es domingo).\n",
    "    - `'order_hour_of_day'`: hora del día en que se hizo el pedido.\n",
    "    - `'days_since_prior_order'`: número de días transcurridos desde que este cliente hizo su pedido anterior.\n",
    "- `products.csv`: cada fila corresponde a un producto único que pueden comprar los clientes.\n",
    "    - `'product_id'`: número ID que identifica de manera única cada producto.\n",
    "    - `'product_name'`: nombre del producto.\n",
    "    - `'aisle_id'`: número ID que identifica de manera única cada categoría de pasillo de víveres.\n",
    "    - `'department_id'`: número ID que identifica de manera única cada departamento de víveres.\n",
    "- `order_products.csv`: cada fila corresponde a un artículo pedido en un pedido.\n",
    "    - `'order_id'`: número de ID que identifica de manera única cada pedido.\n",
    "    - `'product_id'`: número ID que identifica de manera única cada producto.\n",
    "    - `'add_to_cart_order'`: el orden secuencial en el que se añadió cada artículo en el carrito.\n",
    "    - `'reordered'`: 0 si el cliente nunca ha pedido este producto antes, 1 si lo ha pedido.\n",
    "- `aisles.csv`\n",
    "    - `'aisle_id'`: número ID que identifica de manera única cada categoría de pasillo de víveres.\n",
    "    - `'aisle'`: nombre del pasillo.\n",
    "- `departments.csv`\n",
    "    - `'department_id'`: número ID que identifica de manera única cada departamento de víveres.\n",
    "    - `'department'`: nombre del departamento."
   ]
  },
  {
   "cell_type": "markdown",
   "id": "n3Ha_cNSZ8lK",
   "metadata": {
    "id": "n3Ha_cNSZ8lK"
   },
   "source": [
    "# Paso 1. Descripción de los datos\n",
    "\n",
    "Lee los archivos de datos (`/datasets/instacart_orders.csv`, `/datasets/products.csv`, `/datasets/aisles.csv`, `/datasets/departments.csv` y `/datasets/order_products.csv`) con `pd.read_csv()` usando los parámetros adecuados para leer los datos correctamente. Verifica la información para cada DataFrame creado.\n"
   ]
  },
  {
   "cell_type": "markdown",
   "id": "OmlQPLlyaAfR",
   "metadata": {
    "id": "OmlQPLlyaAfR"
   },
   "source": [
    "## Plan de solución\n",
    "\n",
    "Escribe aquí tu plan de solución para el Paso 1. Descripción de los datos.\n",
    "\n",
    "#### \n",
    "El primer paso es importar pandas, asi como leer cada archivo y guardarlo por separado. Una vez se hayan guardado sera leerlos y revisar su estructura con info(), para revisar que su formato y contenido sea manejable, en caso de no serlo se hara un breve analisis para su depuracion y transformacion para dejarlo manejable para su procesamiento, por medio del uso de sus parametros correspondientes como sep, entre otros."
   ]
  },
  {
   "cell_type": "code",
   "execution_count": null,
   "id": "fbf1adab",
   "metadata": {
    "id": "fbf1adab"
   },
   "outputs": [],
   "source": [
    "import pandas as pd# importar librerías\n",
    "import matplotlib.pyplot as plt"
   ]
  },
  {
   "cell_type": "code",
   "execution_count": null,
   "id": "ad36396d",
   "metadata": {
    "id": "ad36396d"
   },
   "outputs": [],
   "source": [
    "# leer conjuntos de datos en los DataFrames\n",
    "instacart_orders = pd.read_csv(\"/datasets/instacart_orders.csv\", sep = \";\") #leo y guardo orders\n",
    "\n",
    "products = pd.read_csv(\"/datasets/products.csv\",sep = \";\") # leo y guardo products\n",
    "\n",
    "aisles = pd.read_csv(\"/datasets/aisles.csv\",sep = \";\") # leo y guardo aisles\n",
    "\n",
    "departments = pd.read_csv(\"/datasets/departments.csv\",sep = \";\") #leo y guardo departments\n",
    "\n",
    "order_products = pd.read_csv(\"/datasets/order_products.csv\",sep = \";\") #leo y guardo order products"
   ]
  },
  {
   "cell_type": "code",
   "execution_count": null,
   "id": "ad6a1efa",
   "metadata": {
    "id": "ad6a1efa"
   },
   "outputs": [
    {
     "name": "stdout",
     "output_type": "stream",
     "text": [
      "        order_id  user_id  order_number  order_dow  order_hour_of_day  \\\n",
      "0        1515936   183418            11          6                 13   \n",
      "1        1690866   163593             5          5                 12   \n",
      "2        1454967    39980             4          5                 19   \n",
      "3        1768857    82516            56          0                 20   \n",
      "4        3007858   196724             2          4                 12   \n",
      "...          ...      ...           ...        ...                ...   \n",
      "478962   3210681     5617             5          1                 14   \n",
      "478963   3270802   112087             2          3                 13   \n",
      "478964    885349    82944            16          2                 11   \n",
      "478965    216274     4391             3          3                  8   \n",
      "478966   2071924     1730            18          1                 14   \n",
      "\n",
      "        days_since_prior_order  \n",
      "0                         30.0  \n",
      "1                          9.0  \n",
      "2                          2.0  \n",
      "3                         10.0  \n",
      "4                         17.0  \n",
      "...                        ...  \n",
      "478962                     7.0  \n",
      "478963                     6.0  \n",
      "478964                     6.0  \n",
      "478965                     8.0  \n",
      "478966                    15.0  \n",
      "\n",
      "[478967 rows x 6 columns]\n",
      "\n",
      "<class 'pandas.core.frame.DataFrame'>\n",
      "RangeIndex: 478967 entries, 0 to 478966\n",
      "Data columns (total 6 columns):\n",
      " #   Column                  Non-Null Count   Dtype  \n",
      "---  ------                  --------------   -----  \n",
      " 0   order_id                478967 non-null  int64  \n",
      " 1   user_id                 478967 non-null  int64  \n",
      " 2   order_number            478967 non-null  int64  \n",
      " 3   order_dow               478967 non-null  int64  \n",
      " 4   order_hour_of_day       478967 non-null  int64  \n",
      " 5   days_since_prior_order  450148 non-null  float64\n",
      "dtypes: float64(1), int64(5)\n",
      "memory usage: 21.9 MB\n",
      "None\n"
     ]
    }
   ],
   "source": [
    "print(instacart_orders)# mostrar información del DataFrame\n",
    "print()\n",
    "print(instacart_orders.info())"
   ]
  },
  {
   "cell_type": "code",
   "execution_count": null,
   "id": "5130e05e",
   "metadata": {
    "id": "5130e05e"
   },
   "outputs": [
    {
     "name": "stdout",
     "output_type": "stream",
     "text": [
      "       product_id                                       product_name  \\\n",
      "0               1                         Chocolate Sandwich Cookies   \n",
      "1               2                                   All-Seasons Salt   \n",
      "2               3               Robust Golden Unsweetened Oolong Tea   \n",
      "3               4  Smart Ones Classic Favorites Mini Rigatoni Wit...   \n",
      "4               5                          Green Chile Anytime Sauce   \n",
      "...           ...                                                ...   \n",
      "49689       49690                      HIGH PERFORMANCE ENERGY DRINK   \n",
      "49690       49691                      ORIGINAL PANCAKE & WAFFLE MIX   \n",
      "49691       49692    ORGANIC INSTANT OATMEAL LIGHT MAPLE BROWN SUGAR   \n",
      "49692       49693                             SPRING WATER BODY WASH   \n",
      "49693       49694                            BURRITO- STEAK & CHEESE   \n",
      "\n",
      "       aisle_id  department_id  \n",
      "0            61             19  \n",
      "1           104             13  \n",
      "2            94              7  \n",
      "3            38              1  \n",
      "4             5             13  \n",
      "...         ...            ...  \n",
      "49689        64              7  \n",
      "49690       130             14  \n",
      "49691       130             14  \n",
      "49692       127             11  \n",
      "49693        38              1  \n",
      "\n",
      "[49694 rows x 4 columns]\n",
      "\n",
      "<class 'pandas.core.frame.DataFrame'>\n",
      "RangeIndex: 49694 entries, 0 to 49693\n",
      "Data columns (total 4 columns):\n",
      " #   Column         Non-Null Count  Dtype \n",
      "---  ------         --------------  ----- \n",
      " 0   product_id     49694 non-null  int64 \n",
      " 1   product_name   48436 non-null  object\n",
      " 2   aisle_id       49694 non-null  int64 \n",
      " 3   department_id  49694 non-null  int64 \n",
      "dtypes: int64(3), object(1)\n",
      "memory usage: 1.5+ MB\n",
      "None\n"
     ]
    }
   ],
   "source": [
    "print(products)# mostrar información del DataFrame\n",
    "print()\n",
    "print(products.info())"
   ]
  },
  {
   "cell_type": "code",
   "execution_count": null,
   "id": "d8370c05",
   "metadata": {
    "id": "d8370c05"
   },
   "outputs": [
    {
     "name": "stdout",
     "output_type": "stream",
     "text": [
      "     aisle_id                       aisle\n",
      "0           1       prepared soups salads\n",
      "1           2           specialty cheeses\n",
      "2           3         energy granola bars\n",
      "3           4               instant foods\n",
      "4           5  marinades meat preparation\n",
      "..        ...                         ...\n",
      "129       130    hot cereal pancake mixes\n",
      "130       131                   dry pasta\n",
      "131       132                      beauty\n",
      "132       133  muscles joints pain relief\n",
      "133       134  specialty wines champagnes\n",
      "\n",
      "[134 rows x 2 columns]\n",
      "\n",
      "<class 'pandas.core.frame.DataFrame'>\n",
      "RangeIndex: 134 entries, 0 to 133\n",
      "Data columns (total 2 columns):\n",
      " #   Column    Non-Null Count  Dtype \n",
      "---  ------    --------------  ----- \n",
      " 0   aisle_id  134 non-null    int64 \n",
      " 1   aisle     134 non-null    object\n",
      "dtypes: int64(1), object(1)\n",
      "memory usage: 2.2+ KB\n",
      "None\n"
     ]
    }
   ],
   "source": [
    "print(aisles)# mostrar información del DataFrame\n",
    "print()\n",
    "print(aisles.info())"
   ]
  },
  {
   "cell_type": "code",
   "execution_count": null,
   "id": "59e2090f",
   "metadata": {
    "id": "59e2090f"
   },
   "outputs": [
    {
     "name": "stdout",
     "output_type": "stream",
     "text": [
      "    department_id       department\n",
      "0               1           frozen\n",
      "1               2            other\n",
      "2               3           bakery\n",
      "3               4          produce\n",
      "4               5          alcohol\n",
      "5               6    international\n",
      "6               7        beverages\n",
      "7               8             pets\n",
      "8               9  dry goods pasta\n",
      "9              10             bulk\n",
      "10             11    personal care\n",
      "11             12     meat seafood\n",
      "12             13           pantry\n",
      "13             14        breakfast\n",
      "14             15     canned goods\n",
      "15             16       dairy eggs\n",
      "16             17        household\n",
      "17             18           babies\n",
      "18             19           snacks\n",
      "19             20             deli\n",
      "20             21          missing\n",
      "\n",
      "<class 'pandas.core.frame.DataFrame'>\n",
      "RangeIndex: 21 entries, 0 to 20\n",
      "Data columns (total 2 columns):\n",
      " #   Column         Non-Null Count  Dtype \n",
      "---  ------         --------------  ----- \n",
      " 0   department_id  21 non-null     int64 \n",
      " 1   department     21 non-null     object\n",
      "dtypes: int64(1), object(1)\n",
      "memory usage: 464.0+ bytes\n",
      "None\n"
     ]
    }
   ],
   "source": [
    "print(departments)# mostrar información del DataFrame\n",
    "print()\n",
    "print(departments.info())"
   ]
  },
  {
   "cell_type": "code",
   "execution_count": null,
   "id": "6fc81694",
   "metadata": {
    "id": "6fc81694"
   },
   "outputs": [
    {
     "name": "stdout",
     "output_type": "stream",
     "text": [
      "         order_id  product_id  add_to_cart_order  reordered\n",
      "0         2141543       11440               17.0          0\n",
      "1          567889        1560                1.0          1\n",
      "2         2261212       26683                1.0          1\n",
      "3          491251        8670               35.0          1\n",
      "4         2571142        1940                5.0          1\n",
      "...           ...         ...                ...        ...\n",
      "4545002    577211       15290               12.0          1\n",
      "4545003   1219554       21914                9.0          0\n",
      "4545004    692640       47766                4.0          1\n",
      "4545005    319435         691                8.0          1\n",
      "4545006   1398151       28733                9.0          0\n",
      "\n",
      "[4545007 rows x 4 columns]\n",
      "\n",
      "<class 'pandas.core.frame.DataFrame'>\n",
      "RangeIndex: 4545007 entries, 0 to 4545006\n",
      "Data columns (total 4 columns):\n",
      " #   Column             Dtype  \n",
      "---  ------             -----  \n",
      " 0   order_id           int64  \n",
      " 1   product_id         int64  \n",
      " 2   add_to_cart_order  float64\n",
      " 3   reordered          int64  \n",
      "dtypes: float64(1), int64(3)\n",
      "memory usage: 138.7 MB\n",
      "None\n"
     ]
    }
   ],
   "source": [
    "print(order_products)# mostrar información del DataFrame\n",
    "print()\n",
    "print(order_products.info())"
   ]
  },
  {
   "cell_type": "markdown",
   "id": "t75BD19oaR5f",
   "metadata": {
    "id": "t75BD19oaR5f"
   },
   "source": [
    "## Conclusiones\n",
    "\n",
    "Escribe aquí tus conclusiones intermedias sobre el Paso 1. Descripción de los datos.\n",
    "\n",
    "\n",
    "#### \n",
    "\n",
    "Se leyeron los diferentes conjuntos de datos y se les cambio el parametro del separador para poderlo leer en columnas adecuadamente.\n",
    "Una ves se leyeron y guardaron correctamente estos fueron los primeros hallazgos:\n",
    "\n",
    "instacart_orders presenta datos nulos en days_since_prior_order, pero debido al nombre de la columna pudiese ser que al no haber uno o mas dias desde la orden anterior, lo tome como nulo en lugar de cero, habra que analizarlo mas a detalle\n",
    "\n",
    "products presenta el nombre de los productos en diferentes formatos en algunos con mayuscula la letra inicial y otros con todas las letras mayusculas, por lo que se debera homogenizar todos los nombres pasando todas las letras a minusculas, ademas de que aparecen algunos nombres vacios y habra que averiguar el por que.\n",
    "\n",
    "Para los demas conjuntos de datos todo parece estar bien, aunque habra que revisar si los datos flotantes es lo mas adecuado para manejar los datos o se tendran que pasar a enteros. Además de buscar duplicados, y valores nulos que se puedan eliminar\n"
   ]
  },
  {
   "cell_type": "markdown",
   "id": "8RJHqxVmaVsF",
   "metadata": {
    "id": "8RJHqxVmaVsF"
   },
   "source": [
    "# Paso 2. Preprocesamiento de los datos\n",
    "\n",
    "Preprocesa los datos de la siguiente manera:\n",
    "\n",
    "- Verifica y corrige los tipos de datos (por ejemplo, asegúrate de que las columnas de ID sean números enteros).\n",
    "- Identifica y completa los valores ausentes.\n",
    "- Identifica y elimina los valores duplicados.\n",
    "\n",
    "Asegúrate de explicar qué tipos de valores ausentes y duplicados encontraste, cómo los completaste o eliminaste y por qué usaste esos métodos. ¿Por qué crees que estos valores ausentes y duplicados pueden haber estado presentes en el conjunto de datos?"
   ]
  },
  {
   "cell_type": "markdown",
   "id": "p6poABZQaZYb",
   "metadata": {
    "id": "p6poABZQaZYb"
   },
   "source": [
    "## Plan de solución\n",
    "\n",
    "Escribe aquí tu plan para el Paso 2. Preprocesamiento de los datos.\n",
    "\n",
    "#### \n",
    "\n",
    "Primero se cambiaran los nombres a letras minusculas.\n",
    "Segundo se visualizaran cuantos datos ausentes y duplicados hay. Con los metodos value_counts() e isna() se contaran los datos ausentes y en caso de poderse remplazar se usara fillna() , y unique() y dropna() para el caso de los duplicados "
   ]
  },
  {
   "cell_type": "markdown",
   "id": "07357848-dc64-4156-9cc3-01ff4365226d",
   "metadata": {
    "id": "07357848-dc64-4156-9cc3-01ff4365226d"
   },
   "source": [
    "## Encuentra y elimina los valores duplicados (y describe cómo tomaste tus decisiones)."
   ]
  },
  {
   "cell_type": "markdown",
   "id": "f179f0a9",
   "metadata": {
    "id": "f179f0a9"
   },
   "source": [
    "### `orders` data frame"
   ]
  },
  {
   "cell_type": "code",
   "execution_count": null,
   "id": "b99297a5-405a-463d-8535-9adc3da4ad74",
   "metadata": {
    "id": "b99297a5-405a-463d-8535-9adc3da4ad74"
   },
   "outputs": [
    {
     "name": "stdout",
     "output_type": "stream",
     "text": [
      "15\n",
      "\n",
      "        order_id  user_id  order_number  order_dow  order_hour_of_day  \\\n",
      "145574    794638    50898            24          3                  2   \n",
      "223105   2160484   107525            16          3                  2   \n",
      "230807   1918001   188546            14          3                  2   \n",
      "266232   1782114   106752             1          3                  2   \n",
      "273805   1112182   202304            84          3                  2   \n",
      "284038   2845099    31189            11          3                  2   \n",
      "311713   1021560    53767             3          3                  2   \n",
      "321100    408114    68324             4          3                  2   \n",
      "323900   1919531   191501            32          3                  2   \n",
      "345917   2232988    82565             1          3                  2   \n",
      "371905    391768    57671            19          3                  2   \n",
      "394347    467134    63189            21          3                  2   \n",
      "411408   1286742   183220            48          3                  2   \n",
      "415163   2282673    86751            49          3                  2   \n",
      "441599   2125197    14050            48          3                  2   \n",
      "\n",
      "        days_since_prior_order  \n",
      "145574                     2.0  \n",
      "223105                    30.0  \n",
      "230807                    16.0  \n",
      "266232                     NaN  \n",
      "273805                     6.0  \n",
      "284038                     7.0  \n",
      "311713                     9.0  \n",
      "321100                    18.0  \n",
      "323900                     7.0  \n",
      "345917                     NaN  \n",
      "371905                    10.0  \n",
      "394347                     2.0  \n",
      "411408                     4.0  \n",
      "415163                     2.0  \n",
      "441599                     3.0  \n"
     ]
    }
   ],
   "source": [
    "# Revisa si hay pedidos duplicados\n",
    "print(instacart_orders.duplicated().sum())\n",
    "print()\n",
    "print(instacart_orders[instacart_orders.duplicated()]) # uso duplicated para ver los duplicados junto con toda la informacion de la tabla para tener mas contexto\n",
    "#instacart_orders[instacart_orders.duplicated()].head()"
   ]
  },
  {
   "cell_type": "markdown",
   "id": "PEkwUX_gvt5A",
   "metadata": {
    "id": "PEkwUX_gvt5A"
   },
   "source": [
    "¿Tienes líneas duplicadas? Si sí, ¿qué tienen en común?\n",
    "\n",
    "* Hay 15 lineas duplicadas, lo interesante es que todas se hicieron el dia miercoles a las 2 de la mañana. Ya que todos los duplicados para orders coinciden en el dia y en la hora, puede ser muy probable que haya habido algun error en el sistema en ese momento que haya generado los duplicados."
   ]
  },
  {
   "cell_type": "code",
   "execution_count": null,
   "id": "0d44de5d",
   "metadata": {
    "id": "0d44de5d"
   },
   "outputs": [
    {
     "name": "stdout",
     "output_type": "stream",
     "text": [
      "        order_id  user_id  order_number  order_dow  order_hour_of_day  \\\n",
      "4838     2766110   162084            41          3                  2   \n",
      "5156     2190225   138285            18          3                  2   \n",
      "15506     553049    58599            13          3                  2   \n",
      "18420     382357   120200            19          3                  2   \n",
      "24691     690242    77357             2          3                  2   \n",
      "...          ...      ...           ...        ...                ...   \n",
      "457013   3384021    14881             6          3                  2   \n",
      "458816    910166   164782            18          3                  2   \n",
      "459635   1680532   106435             6          3                  2   \n",
      "468324    222962    54979            59          3                  2   \n",
      "477526   2592344    46860            38          3                  2   \n",
      "\n",
      "        days_since_prior_order  \n",
      "4838                      16.0  \n",
      "5156                      11.0  \n",
      "15506                      7.0  \n",
      "18420                     11.0  \n",
      "24691                      9.0  \n",
      "...                        ...  \n",
      "457013                    30.0  \n",
      "458816                     4.0  \n",
      "459635                    21.0  \n",
      "468324                     3.0  \n",
      "477526                     3.0  \n",
      "\n",
      "[121 rows x 6 columns]\n"
     ]
    }
   ],
   "source": [
    "# Basándote en tus hallazgos,\n",
    "# Verifica todos los pedidos que se hicieron el miércoles a las 2:00 a.m.\n",
    "print(instacart_orders[(instacart_orders[\"order_dow\"]== 3) & (instacart_orders[\"order_hour_of_day\"]== 2)])\n"
   ]
  },
  {
   "cell_type": "markdown",
   "id": "vu2OWyoqwOx5",
   "metadata": {
    "id": "vu2OWyoqwOx5"
   },
   "source": [
    "¿Qué sugiere este resultado?\n",
    "\n",
    "* Al haber habido 121 pedidos el miercoles a las 2:00 am y 15 lineas duplicadas, podemos inferir que son despreciables los duplicados y podemos proceder a eliminarlas sin problema."
   ]
  },
  {
   "cell_type": "code",
   "execution_count": null,
   "id": "480563c7",
   "metadata": {
    "id": "480563c7"
   },
   "outputs": [],
   "source": [
    "# Elimina los pedidos duplicados\n",
    "\n",
    "instacart_orders = instacart_orders.drop_duplicates().reset_index(drop=True) # elimino duplicados y reinicio el indice para que no haya numeros saltados en el indice\n"
   ]
  },
  {
   "cell_type": "code",
   "execution_count": null,
   "id": "0b2396a2",
   "metadata": {
    "id": "0b2396a2"
   },
   "outputs": [
    {
     "name": "stdout",
     "output_type": "stream",
     "text": [
      "0\n"
     ]
    }
   ],
   "source": [
    "# Vuelve a verificar si hay filas duplicadas\n",
    "print(instacart_orders.duplicated().sum()) # reviso si hay lineas duplicadas"
   ]
  },
  {
   "cell_type": "code",
   "execution_count": null,
   "id": "f6113ef1",
   "metadata": {
    "id": "f6113ef1"
   },
   "outputs": [
    {
     "name": "stdout",
     "output_type": "stream",
     "text": [
      "Empty DataFrame\n",
      "Columns: [order_id, user_id, order_number, order_dow, order_hour_of_day, days_since_prior_order]\n",
      "Index: []\n"
     ]
    }
   ],
   "source": [
    "# Vuelve a verificar únicamente si hay IDs duplicados de pedidos\n",
    "print(instacart_orders[instacart_orders[\"order_id\"].duplicated()]) # se verifica por columna de Id para verificar que no haya duplicados en los Ids de pedido\n"
   ]
  },
  {
   "cell_type": "markdown",
   "id": "5e8905ae",
   "metadata": {
    "id": "5e8905ae"
   },
   "source": [
    "Describe brevemente tus hallazgos y lo que hiciste con ellos\n",
    "\n",
    "* Al buscar si habia duplicados, se encontro que habia 15 lineas duplicadas, todas para el dia 3 y a la hora 2. Se procedio a analizar todos los datos generados para ese dia y hora, y se encontro que habian 121 pedidos. Por lo que se decidio eliminar las 15 lineas duplicadas, ya que por la cantidad de datos eran despreciables. Una vez eliminadas, se reseteo el indice del conjunto de datos para que los numeros siguieran siendo consecutivos, y se verifico nuevamente que no hubiera pedidos duplicados, dejando el conjunto de datos orders limpio."
   ]
  },
  {
   "cell_type": "markdown",
   "id": "45e6bc46",
   "metadata": {
    "id": "45e6bc46"
   },
   "source": [
    "### `products` data frame"
   ]
  },
  {
   "cell_type": "code",
   "execution_count": null,
   "id": "5f526b5b-8175-46fa-a0fd-441767d50e64",
   "metadata": {
    "id": "5f526b5b-8175-46fa-a0fd-441767d50e64"
   },
   "outputs": [
    {
     "name": "stdout",
     "output_type": "stream",
     "text": [
      "Total de filas duplicadas 0\n",
      "\n",
      "Empty DataFrame\n",
      "Columns: [product_id, product_name, aisle_id, department_id]\n",
      "Index: []\n"
     ]
    }
   ],
   "source": [
    "print(\"Total de filas duplicadas\", products.duplicated().sum())# Verifica si hay filas totalmente duplicadas\n",
    "print()\n",
    "print(products[products.duplicated()])\n"
   ]
  },
  {
   "cell_type": "code",
   "execution_count": null,
   "id": "88daa4f4",
   "metadata": {
    "id": "88daa4f4"
   },
   "outputs": [
    {
     "name": "stdout",
     "output_type": "stream",
     "text": [
      "       product_id                                     product_name  aisle_id  \\\n",
      "4               5                        Green Chile Anytime Sauce         5   \n",
      "6               7                   Pure Coconut Water With Orange        98   \n",
      "7               8                Cut Russet Potatoes Steam N' Mash       116   \n",
      "9              10   Sparkling Orange Juice & Prickly Pear Beverage       115   \n",
      "10             11                                Peach Mango Juice        31   \n",
      "...           ...                                              ...       ...   \n",
      "49689       49690                    HIGH PERFORMANCE ENERGY DRINK        64   \n",
      "49690       49691                    ORIGINAL PANCAKE & WAFFLE MIX       130   \n",
      "49691       49692  ORGANIC INSTANT OATMEAL LIGHT MAPLE BROWN SUGAR       130   \n",
      "49692       49693                           SPRING WATER BODY WASH       127   \n",
      "49693       49694                          BURRITO- STEAK & CHEESE        38   \n",
      "\n",
      "       department_id  \n",
      "4                 13  \n",
      "6                  7  \n",
      "7                  1  \n",
      "9                  7  \n",
      "10                 7  \n",
      "...              ...  \n",
      "49689              7  \n",
      "49690             14  \n",
      "49691             14  \n",
      "49692             11  \n",
      "49693              1  \n",
      "\n",
      "[49673 rows x 4 columns]\n"
     ]
    }
   ],
   "source": [
    "print(products[products[\"department_id\"].duplicated()])# Revisa únicamente si hay ID de departamentos duplicados\n"
   ]
  },
  {
   "cell_type": "code",
   "execution_count": null,
   "id": "c773f0bf",
   "metadata": {
    "id": "c773f0bf"
   },
   "outputs": [
    {
     "name": "stdout",
     "output_type": "stream",
     "text": [
      "       product_id                                     product_name  aisle_id  \\\n",
      "71             72                                              NaN       100   \n",
      "109           110                                              NaN       100   \n",
      "296           297                                              NaN       100   \n",
      "416           417                                              NaN       100   \n",
      "436           437                                              NaN       100   \n",
      "...           ...                                              ...       ...   \n",
      "49689       49690                    HIGH PERFORMANCE ENERGY DRINK        64   \n",
      "49690       49691                    ORIGINAL PANCAKE & WAFFLE MIX       130   \n",
      "49691       49692  ORGANIC INSTANT OATMEAL LIGHT MAPLE BROWN SUGAR       130   \n",
      "49692       49693                           SPRING WATER BODY WASH       127   \n",
      "49693       49694                          BURRITO- STEAK & CHEESE        38   \n",
      "\n",
      "       department_id  \n",
      "71                21  \n",
      "109               21  \n",
      "296               21  \n",
      "416               21  \n",
      "436               21  \n",
      "...              ...  \n",
      "49689              7  \n",
      "49690             14  \n",
      "49691             14  \n",
      "49692             11  \n",
      "49693              1  \n",
      "\n",
      "[1361 rows x 4 columns]\n"
     ]
    },
    {
     "data": {
      "text/html": [
       "<div>\n",
       "<style scoped>\n",
       "    .dataframe tbody tr th:only-of-type {\n",
       "        vertical-align: middle;\n",
       "    }\n",
       "\n",
       "    .dataframe tbody tr th {\n",
       "        vertical-align: top;\n",
       "    }\n",
       "\n",
       "    .dataframe thead th {\n",
       "        text-align: right;\n",
       "    }\n",
       "</style>\n",
       "<table border=\"1\" class=\"dataframe\">\n",
       "  <thead>\n",
       "    <tr style=\"text-align: right;\">\n",
       "      <th></th>\n",
       "      <th>product_id</th>\n",
       "      <th>product_name</th>\n",
       "      <th>aisle_id</th>\n",
       "      <th>department_id</th>\n",
       "    </tr>\n",
       "  </thead>\n",
       "  <tbody>\n",
       "    <tr>\n",
       "      <th>0</th>\n",
       "      <td>38</td>\n",
       "      <td>NaN</td>\n",
       "      <td>100</td>\n",
       "      <td>21</td>\n",
       "    </tr>\n",
       "    <tr>\n",
       "      <th>1</th>\n",
       "      <td>72</td>\n",
       "      <td>NaN</td>\n",
       "      <td>100</td>\n",
       "      <td>21</td>\n",
       "    </tr>\n",
       "    <tr>\n",
       "      <th>2</th>\n",
       "      <td>110</td>\n",
       "      <td>NaN</td>\n",
       "      <td>100</td>\n",
       "      <td>21</td>\n",
       "    </tr>\n",
       "    <tr>\n",
       "      <th>3</th>\n",
       "      <td>297</td>\n",
       "      <td>NaN</td>\n",
       "      <td>100</td>\n",
       "      <td>21</td>\n",
       "    </tr>\n",
       "    <tr>\n",
       "      <th>4</th>\n",
       "      <td>417</td>\n",
       "      <td>NaN</td>\n",
       "      <td>100</td>\n",
       "      <td>21</td>\n",
       "    </tr>\n",
       "    <tr>\n",
       "      <th>...</th>\n",
       "      <td>...</td>\n",
       "      <td>...</td>\n",
       "      <td>...</td>\n",
       "      <td>...</td>\n",
       "    </tr>\n",
       "    <tr>\n",
       "      <th>1253</th>\n",
       "      <td>49553</td>\n",
       "      <td>NaN</td>\n",
       "      <td>100</td>\n",
       "      <td>21</td>\n",
       "    </tr>\n",
       "    <tr>\n",
       "      <th>1254</th>\n",
       "      <td>49575</td>\n",
       "      <td>NaN</td>\n",
       "      <td>100</td>\n",
       "      <td>21</td>\n",
       "    </tr>\n",
       "    <tr>\n",
       "      <th>1255</th>\n",
       "      <td>49641</td>\n",
       "      <td>NaN</td>\n",
       "      <td>100</td>\n",
       "      <td>21</td>\n",
       "    </tr>\n",
       "    <tr>\n",
       "      <th>1256</th>\n",
       "      <td>49664</td>\n",
       "      <td>NaN</td>\n",
       "      <td>100</td>\n",
       "      <td>21</td>\n",
       "    </tr>\n",
       "    <tr>\n",
       "      <th>1257</th>\n",
       "      <td>49669</td>\n",
       "      <td>NaN</td>\n",
       "      <td>100</td>\n",
       "      <td>21</td>\n",
       "    </tr>\n",
       "  </tbody>\n",
       "</table>\n",
       "<p>1258 rows × 4 columns</p>\n",
       "</div>"
      ],
      "text/plain": [
       "      product_id product_name  aisle_id  department_id\n",
       "0             38          NaN       100             21\n",
       "1             72          NaN       100             21\n",
       "2            110          NaN       100             21\n",
       "3            297          NaN       100             21\n",
       "4            417          NaN       100             21\n",
       "...          ...          ...       ...            ...\n",
       "1253       49553          NaN       100             21\n",
       "1254       49575          NaN       100             21\n",
       "1255       49641          NaN       100             21\n",
       "1256       49664          NaN       100             21\n",
       "1257       49669          NaN       100             21\n",
       "\n",
       "[1258 rows x 4 columns]"
      ]
     },
     "execution_count": 15,
     "metadata": {},
     "output_type": "execute_result"
    }
   ],
   "source": [
    "products[\"product_name\"] = products[\"product_name\"].str.upper() # convierto product name a mayusculas\n",
    "\n",
    "print(products[products[\"product_name\"].duplicated()]) # Revisa únicamente si hay nombres duplicados de productos \n",
    "products[products[\"product_name\"].isna()].drop_duplicates().reset_index(drop=True) # se eliminana los duplicados con respecto a la columan product name y se mantienen los valores nulos\n",
    "\n",
    "\n",
    "\n"
   ]
  },
  {
   "cell_type": "code",
   "execution_count": null,
   "id": "01efd02e",
   "metadata": {
    "id": "01efd02e",
    "scrolled": true
   },
   "outputs": [
    {
     "name": "stdout",
     "output_type": "stream",
     "text": [
      "       product_id                                     product_name  aisle_id  \\\n",
      "2058         2059                                  BIOTIN 1000 MCG        47   \n",
      "5455         5456                 GREEN TEA WITH GINSENG AND HONEY        96   \n",
      "5558         5559                           CREAM OF MUSHROOM SOUP        69   \n",
      "7558         7559                        CINNAMON ROLLS WITH ICING       105   \n",
      "9037         9038                           AMERICAN CHEESE SLICES        21   \n",
      "...           ...                                              ...       ...   \n",
      "49689       49690                    HIGH PERFORMANCE ENERGY DRINK        64   \n",
      "49690       49691                    ORIGINAL PANCAKE & WAFFLE MIX       130   \n",
      "49691       49692  ORGANIC INSTANT OATMEAL LIGHT MAPLE BROWN SUGAR       130   \n",
      "49692       49693                           SPRING WATER BODY WASH       127   \n",
      "49693       49694                          BURRITO- STEAK & CHEESE        38   \n",
      "\n",
      "       department_id  \n",
      "2058              11  \n",
      "5455              20  \n",
      "5558              15  \n",
      "7558              13  \n",
      "9037              16  \n",
      "...              ...  \n",
      "49689              7  \n",
      "49690             14  \n",
      "49691             14  \n",
      "49692             11  \n",
      "49693              1  \n",
      "\n",
      "[104 rows x 4 columns]\n"
     ]
    }
   ],
   "source": [
    "#print(products[products[\"product_name\"].duplicated()])# Revisa si hay nombres duplicados de productos no faltantes\n",
    "#print(products[products[\"product_name\"]!= \"Unknown\"].head())\n",
    "print(products[(products[\"product_name\"].duplicated()) & ~(products[\"product_name\"].isna())])"
   ]
  },
  {
   "cell_type": "markdown",
   "id": "9da8d293",
   "metadata": {
    "id": "9da8d293"
   },
   "source": [
    "Describe brevemente tus hallazgos y lo que hiciste con ellos.\n",
    "*Para department_id se encontro que el valor del ID se repite, pero esto puede ser normak ya que ciertos productos van a tener el mismo departamento ID , como los jugos en el caso de la linea 9  y 10 por lo que esos duplicados se dejaron como estan.\n",
    "Para el conjunto de datos de product_name se encontraron 1361 filas con productos sin nombre y duplicados por lo que se procedio a eliminar solo los duplicados y se mantuvieron los valores ausentes."
   ]
  },
  {
   "cell_type": "markdown",
   "id": "60f30db1",
   "metadata": {
    "id": "60f30db1"
   },
   "source": [
    "### `departments` data frame"
   ]
  },
  {
   "cell_type": "code",
   "execution_count": null,
   "id": "fb410ad4-0fbf-4b80-bb09-23fdea79afe3",
   "metadata": {
    "id": "fb410ad4-0fbf-4b80-bb09-23fdea79afe3"
   },
   "outputs": [
    {
     "name": "stdout",
     "output_type": "stream",
     "text": [
      "Total de filas duplicadas 0\n",
      "\n",
      "Empty DataFrame\n",
      "Columns: [department_id, department]\n",
      "Index: []\n"
     ]
    }
   ],
   "source": [
    "print(\"Total de filas duplicadas\",departments.duplicated().sum())# Revisa si hay filas totalmente duplicadas\n",
    "print()\n",
    "print(departments[departments.duplicated()])\n"
   ]
  },
  {
   "cell_type": "code",
   "execution_count": null,
   "id": "332b12bb",
   "metadata": {
    "id": "332b12bb",
    "scrolled": true
   },
   "outputs": [
    {
     "name": "stdout",
     "output_type": "stream",
     "text": [
      "Empty DataFrame\n",
      "Columns: [department_id, department]\n",
      "Index: []\n"
     ]
    }
   ],
   "source": [
    "print(departments[departments[\"department_id\"].duplicated()])# Revisa únicamente si hay IDs duplicadas de productos"
   ]
  },
  {
   "cell_type": "markdown",
   "id": "bd30d78e",
   "metadata": {
    "id": "bd30d78e"
   },
   "source": [
    "Describe brevemente tus hallazgos y lo que hiciste con ellos.\n",
    "* Para el conjunto de datos de departments no se encontro ningun valor duplicado"
   ]
  },
  {
   "cell_type": "markdown",
   "id": "889349c1",
   "metadata": {
    "id": "889349c1"
   },
   "source": [
    "### `aisles` data frame"
   ]
  },
  {
   "cell_type": "code",
   "execution_count": null,
   "id": "9da89fb9-4679-40f5-ad0d-c34df753a3f8",
   "metadata": {
    "id": "9da89fb9-4679-40f5-ad0d-c34df753a3f8"
   },
   "outputs": [
    {
     "name": "stdout",
     "output_type": "stream",
     "text": [
      "Total de filas duplicadas 0\n",
      "\n",
      "Empty DataFrame\n",
      "Columns: [aisle_id, aisle]\n",
      "Index: []\n"
     ]
    }
   ],
   "source": [
    "print(\"Total de filas duplicadas\" ,aisles.duplicated().sum())# Revisa si hay filas totalmente duplicadas\n",
    "print()\n",
    "print(aisles[aisles.duplicated()])"
   ]
  },
  {
   "cell_type": "code",
   "execution_count": null,
   "id": "da7c2822",
   "metadata": {
    "id": "da7c2822"
   },
   "outputs": [
    {
     "name": "stdout",
     "output_type": "stream",
     "text": [
      "Empty DataFrame\n",
      "Columns: [aisle_id, aisle]\n",
      "Index: []\n"
     ]
    }
   ],
   "source": [
    "print(aisles[aisles[\"aisle_id\"].duplicated()])# Revisa únicamente si hay IDs duplicadas de productos"
   ]
  },
  {
   "cell_type": "markdown",
   "id": "ac63826f",
   "metadata": {
    "id": "ac63826f"
   },
   "source": [
    "Describe brevemente tus hallazgos y lo que hiciste con ellos.\n",
    "* Para el conjunto de datos de aisles no se encontro ningun valor duplicado, por lo que no se realizo ningun cambio"
   ]
  },
  {
   "cell_type": "markdown",
   "id": "274cd06a",
   "metadata": {
    "id": "274cd06a"
   },
   "source": [
    "### `order_products` data frame"
   ]
  },
  {
   "cell_type": "code",
   "execution_count": null,
   "id": "52326689-84a8-4b8f-a881-7c68780f62c9",
   "metadata": {
    "id": "52326689-84a8-4b8f-a881-7c68780f62c9"
   },
   "outputs": [
    {
     "name": "stdout",
     "output_type": "stream",
     "text": [
      "0\n",
      "\n",
      "Empty DataFrame\n",
      "Columns: [order_id, product_id, add_to_cart_order, reordered]\n",
      "Index: []\n"
     ]
    }
   ],
   "source": [
    "print(order_products.duplicated().sum())# Revisa si hay filas totalmente duplicadas\n",
    "print()\n",
    "print(order_products[order_products.duplicated()])\n",
    "\n"
   ]
  },
  {
   "cell_type": "code",
   "execution_count": null,
   "id": "7b861391",
   "metadata": {
    "id": "7b861391"
   },
   "outputs": [
    {
     "name": "stdout",
     "output_type": "stream",
     "text": [
      "         order_id  product_id  add_to_cart_order  reordered\n",
      "367       2867619       48094                9.0          0\n",
      "824        844425       39408               10.0          1\n",
      "1124      3319857       37067               19.0          0\n",
      "1258      1038788       12471               14.0          0\n",
      "1303      2825714       44632               16.0          1\n",
      "...           ...         ...                ...        ...\n",
      "4545002    577211       15290               12.0          1\n",
      "4545003   1219554       21914                9.0          0\n",
      "4545004    692640       47766                4.0          1\n",
      "4545005    319435         691                8.0          1\n",
      "4545006   1398151       28733                9.0          0\n",
      "\n",
      "[4094961 rows x 4 columns]\n",
      "61355      127\n",
      "3308010    115\n",
      "2136777    108\n",
      "171934     104\n",
      "1959075     98\n",
      "          ... \n",
      "54659        1\n",
      "210431       1\n",
      "1717983      1\n",
      "1136563      1\n",
      "8196         1\n",
      "Name: order_id, Length: 450046, dtype: int64\n",
      "\n",
      "         order_id  product_id  add_to_cart_order  reordered\n",
      "57981       61355        5322                NaN          0\n",
      "149404      61355       39475               45.0          0\n",
      "247893      61355        8594                NaN          0\n",
      "269840      61355       14233                5.0          0\n",
      "345399      61355       24010               51.0          0\n",
      "...           ...         ...                ...        ...\n",
      "4426514     61355       29270               15.0          0\n",
      "4482168     61355       24964               33.0          0\n",
      "4515077     61355        6760               27.0          0\n",
      "4521208     61355       16262               62.0          0\n",
      "4525165     61355       24561               54.0          0\n",
      "\n",
      "[127 rows x 4 columns]\n"
     ]
    }
   ],
   "source": [
    "print(order_products[order_products[\"order_id\"].duplicated()])# Vuelve a verificar si hay cualquier otro duplicado engañoso\n",
    "print(order_products[\"order_id\"].value_counts()) # reviso si hay duplicados en las order_id ya que se supone q cada pedido tiene un id unico\n",
    "print()\n",
    "print(order_products[order_products[\"order_id\"]==61355]) # compruebo con un ejemplo de pedido duplicado para revisar el contenido"
   ]
  },
  {
   "cell_type": "markdown",
   "id": "0b890492",
   "metadata": {
    "id": "0b890492"
   },
   "source": [
    "Describe brevemente tus hallazgos y lo que hiciste con ellos.\n",
    "* Al revisar si habia duplicados en el conjunto de ordene a primera vista parecia que no, al revisar por order_id que es el id unico por pedido y en teoria no se deberia de repetir, aparecieron varios duplicados, al revisar con un ejemplo de los duplicados se puede ver que el id de pedido parece ser que es el mismo aunque se pidan diferentes productos, por lo que no se puede considerar duplicado y se mantuvo la informacion"
   ]
  },
  {
   "cell_type": "markdown",
   "id": "1e46de76",
   "metadata": {
    "id": "1e46de76"
   },
   "source": [
    "## Encuentra y elimina los valores ausentes\n",
    "\n",
    "Al trabajar con valores duplicados, pudimos observar que también nos falta investigar valores ausentes:\n",
    "\n",
    "* La columna `'product_name'` de la tabla products.\n",
    "* La columna `'days_since_prior_order'` de la tabla orders.\n",
    "* La columna `'add_to_cart_order'` de la tabla order_productos."
   ]
  },
  {
   "cell_type": "markdown",
   "id": "c0aebd78",
   "metadata": {
    "id": "c0aebd78"
   },
   "source": [
    "### `products` data frame"
   ]
  },
  {
   "cell_type": "code",
   "execution_count": null,
   "id": "fe4a8b0f",
   "metadata": {
    "id": "fe4a8b0f"
   },
   "outputs": [
    {
     "name": "stdout",
     "output_type": "stream",
     "text": [
      "       product_id product_name  aisle_id  department_id\n",
      "37             38          NaN       100             21\n",
      "71             72          NaN       100             21\n",
      "109           110          NaN       100             21\n",
      "296           297          NaN       100             21\n",
      "416           417          NaN       100             21\n",
      "...           ...          ...       ...            ...\n",
      "49552       49553          NaN       100             21\n",
      "49574       49575          NaN       100             21\n",
      "49640       49641          NaN       100             21\n",
      "49663       49664          NaN       100             21\n",
      "49668       49669          NaN       100             21\n",
      "\n",
      "[1258 rows x 4 columns]\n"
     ]
    }
   ],
   "source": [
    "print(products[products[\"product_name\"].isna()])# Encuentra los valores ausentes en la columna 'product_name'\n"
   ]
  },
  {
   "cell_type": "markdown",
   "id": "-A6x1AbJhjkp",
   "metadata": {
    "id": "-A6x1AbJhjkp"
   },
   "source": [
    "Describe brevemente cuáles son tus hallazgos.\n",
    "* A primera vista parece ser que todos los valores ausentes en product_name tienen el aisle_id 100 y department_id 21, por lo que hare un filtrado excluyendo esos id, y ver si sale algun otro valor."
   ]
  },
  {
   "cell_type": "code",
   "execution_count": null,
   "id": "e96167bc",
   "metadata": {
    "id": "e96167bc"
   },
   "outputs": [
    {
     "name": "stdout",
     "output_type": "stream",
     "text": [
      "Empty DataFrame\n",
      "Columns: [product_id, product_name, aisle_id, department_id]\n",
      "Index: []\n"
     ]
    }
   ],
   "source": [
    "#  ¿Todos los nombres de productos ausentes están relacionados con el pasillo con ID 100?\n",
    "print(products[(products[\"product_name\"].isna()) & (products[\"aisle_id\"]!= 100)])"
   ]
  },
  {
   "cell_type": "markdown",
   "id": "WRpIfXRphpSL",
   "metadata": {
    "id": "WRpIfXRphpSL"
   },
   "source": [
    "Describe brevemente cuáles son tus hallazgos.\n",
    "\n",
    "* Se hizo un filtrado para comprobar si hay algun valor ausente que no este relacionado al pasillo 100, y no se obtuvo ningun valor, por lo que se confirma que todos los valores ausentes estan relacionados con el pasillo 100."
   ]
  },
  {
   "cell_type": "code",
   "execution_count": null,
   "id": "8fd0a541",
   "metadata": {
    "id": "8fd0a541"
   },
   "outputs": [
    {
     "name": "stdout",
     "output_type": "stream",
     "text": [
      "Empty DataFrame\n",
      "Columns: [product_id, product_name, aisle_id, department_id]\n",
      "Index: []\n"
     ]
    }
   ],
   "source": [
    "# ¿Todos los nombres de productos ausentes están relacionados con el departamento con ID 21?\n",
    "print(products[(products[\"product_name\"].isna()) & (products[\"department_id\"]!= 21)])"
   ]
  },
  {
   "cell_type": "markdown",
   "id": "qDpdYn1Fht_I",
   "metadata": {
    "id": "qDpdYn1Fht_I"
   },
   "source": [
    "Describe brevemente cuáles son tus hallazgos.\n",
    "* Se hizo un filtrado para comprobar si hay algun valor ausente que no este relacionado con el departamento 21, y no se obtuvo ningun valor, por lo que se confirma que todos los valores ausentes estan relacionados con el departamento21."
   ]
  },
  {
   "cell_type": "code",
   "execution_count": null,
   "id": "325c3464",
   "metadata": {
    "id": "325c3464"
   },
   "outputs": [
    {
     "name": "stdout",
     "output_type": "stream",
     "text": [
      "    aisle_id    aisle\n",
      "99       100  missing\n",
      "\n",
      "    department_id department\n",
      "20             21    missing\n"
     ]
    }
   ],
   "source": [
    "# Usa las tablas department y aisle para revisar los datos del pasillo con ID 100 y el departamento con ID 21.\n",
    "print(aisles[aisles[\"aisle_id\"]==100])\n",
    "print()\n",
    "print(departments[departments[\"department_id\"]== 21])\n",
    "\n"
   ]
  },
  {
   "cell_type": "markdown",
   "id": "nqhSTUPhhvEJ",
   "metadata": {
    "id": "nqhSTUPhhvEJ"
   },
   "source": [
    "Describe brevemente cuáles son tus hallazgos.\n",
    "* Al analizar la tabla de pasillos y departamentos, podemos ver que tanto el pasillo 100 como el departamento 21 estan como faltantes o desaparecidos en ambas tablas, y lo que responde porque hay nombres de productos ausentes para esos campos."
   ]
  },
  {
   "cell_type": "code",
   "execution_count": null,
   "id": "6b295120",
   "metadata": {
    "id": "6b295120"
   },
   "outputs": [
    {
     "name": "stdout",
     "output_type": "stream",
     "text": [
      "\n",
      "Empty DataFrame\n",
      "Columns: [product_id, product_name, aisle_id, department_id]\n",
      "Index: []\n"
     ]
    }
   ],
   "source": [
    "# Completa los nombres de productos ausentes con 'Unknown'\n",
    "products[\"product_name\"] = products[\"product_name\"].fillna(\"Unknown\")# le pasamos el nuevo valor de unknown a los valores ausentes con fillna\n",
    "print()\n",
    "print(products[products[\"product_name\"].isna()]) # confirmamos que no haya quedado algun valor ausente "
   ]
  },
  {
   "cell_type": "markdown",
   "id": "fc70e5ad",
   "metadata": {
    "id": "fc70e5ad"
   },
   "source": [
    "Describe brevemente tus hallazgos y lo que hiciste con ellos.\n",
    "* Ya que se encontro que los productos sin nombre solo eran para el pasillo 100 y departamento 21, los cuales tienen valor \"missing\" en sus tablas, se procedio a cambiar el valor del nombre del producto por \"Unknown\" usando el metodo fillna."
   ]
  },
  {
   "cell_type": "markdown",
   "id": "7eb45c86",
   "metadata": {
    "id": "7eb45c86"
   },
   "source": [
    "### `orders` data frame"
   ]
  },
  {
   "cell_type": "code",
   "execution_count": null,
   "id": "93e41d96",
   "metadata": {
    "id": "93e41d96"
   },
   "outputs": [
    {
     "name": "stdout",
     "output_type": "stream",
     "text": [
      "order_id                      0\n",
      "user_id                       0\n",
      "order_number                  0\n",
      "order_dow                     0\n",
      "order_hour_of_day             0\n",
      "days_since_prior_order    28817\n",
      "dtype: int64\n",
      "\n",
      "        order_id  user_id  order_number  order_dow  order_hour_of_day  \\\n",
      "28        133707   182261             1          3                 10   \n",
      "96        787445    25685             1          6                 18   \n",
      "100       294410   111449             1          0                 19   \n",
      "103      2869915   123958             1          4                 16   \n",
      "104      2521921    42286             1          3                 18   \n",
      "...          ...      ...           ...        ...                ...   \n",
      "478880   2589657   205028             1          0                 16   \n",
      "478881   2222353   141211             1          2                 13   \n",
      "478907   2272807   204154             1          1                 15   \n",
      "478911   2499542    68810             1          4                 19   \n",
      "478930   1387033    22496             1          5                 14   \n",
      "\n",
      "        days_since_prior_order  \n",
      "28                         NaN  \n",
      "96                         NaN  \n",
      "100                        NaN  \n",
      "103                        NaN  \n",
      "104                        NaN  \n",
      "...                        ...  \n",
      "478880                     NaN  \n",
      "478881                     NaN  \n",
      "478907                     NaN  \n",
      "478911                     NaN  \n",
      "478930                     NaN  \n",
      "\n",
      "[28817 rows x 6 columns]\n"
     ]
    }
   ],
   "source": [
    "print(instacart_orders.isna().sum())# Encuentra los valores ausentes, primero reviso que columnas tienen valores ausentes\n",
    "print()\n",
    "print(instacart_orders[instacart_orders[\"days_since_prior_order\"].isna()])# una vez que se que days_since.. es la columna con valores ausentes, filtro los valores ausentes en esa columna para saber mas"
   ]
  },
  {
   "cell_type": "code",
   "execution_count": null,
   "id": "166e5a86",
   "metadata": {
    "id": "166e5a86"
   },
   "outputs": [
    {
     "name": "stdout",
     "output_type": "stream",
     "text": [
      "Empty DataFrame\n",
      "Columns: [order_id, user_id, order_number, order_dow, order_hour_of_day, days_since_prior_order]\n",
      "Index: []\n",
      "\n",
      "Empty DataFrame\n",
      "Columns: [order_id, user_id, order_number, order_dow, order_hour_of_day, days_since_prior_order]\n",
      "Index: []\n"
     ]
    }
   ],
   "source": [
    "# ¿Hay algún valor ausente que no sea el primer pedido del cliente?\n",
    "print(instacart_orders[(instacart_orders[\"days_since_prior_order\"].isna()) & (instacart_orders[\"order_number\"]!=1)])# filtro los dias que no sean el primer pedido, para saber si hay pedidos con valores ausentes que no hayan sido el primero\n",
    "print()\n",
    "instacart_orders[\"days_since_prior_order\"] =  instacart_orders[\"days_since_prior_order\"].fillna(0) # ya que comprobe que solo el primer pedido tiene el dia anterior en valor ausente, se lo intercambio por 0 , ya que como es el primer pedido no hay dias antes de ese pedido\n",
    "print(instacart_orders[instacart_orders[\"days_since_prior_order\"].isna()])# confirmo que ya no haya valores ausentes\n"
   ]
  },
  {
   "cell_type": "markdown",
   "id": "4e23d089",
   "metadata": {
    "id": "4e23d089"
   },
   "source": [
    "Describe brevemente tus hallazgos y lo que hiciste con ellos.\n",
    "* Primero se reviso que columnas tenian valores ausentes, se identifico que days_since_prior_order era la columna con valores ausentes, asi que se filtro por esa columna para tener mas informacion sobre sus valores ausentes. Al revisar sus valores se noto que todos los primeros pedidos al ser pedido 1 y no haber dias antes de ese pedido, contenian valor ausente. Por lo que se sustituyo ese valor ausente por un 0. Ya que son 0 dias antes de ese pedido"
   ]
  },
  {
   "cell_type": "markdown",
   "id": "69dc9ca4",
   "metadata": {
    "id": "69dc9ca4"
   },
   "source": [
    "### `order_products` data frame"
   ]
  },
  {
   "cell_type": "code",
   "execution_count": null,
   "id": "b8240253",
   "metadata": {
    "id": "b8240253"
   },
   "outputs": [
    {
     "name": "stdout",
     "output_type": "stream",
     "text": [
      "order_id               0\n",
      "product_id             0\n",
      "add_to_cart_order    836\n",
      "reordered              0\n",
      "dtype: int64\n"
     ]
    }
   ],
   "source": [
    "print(order_products.isna().sum()) # Encuentra los valores ausentes"
   ]
  },
  {
   "cell_type": "code",
   "execution_count": null,
   "id": "9a78e5ee",
   "metadata": {
    "id": "9a78e5ee"
   },
   "outputs": [
    {
     "name": "stdout",
     "output_type": "stream",
     "text": [
      "Valor minimo de la secuencia de adicion de productos 1.0\n",
      "Valor maximo de la secuencia de adicion de productos 64.0\n"
     ]
    }
   ],
   "source": [
    "# ¿Cuáles son los valores mínimos y máximos en esta columna?\n",
    "print(\"Valor minimo de la secuencia de adicion de productos\",order_products[\"add_to_cart_order\"].min())\n",
    "print(\"Valor maximo de la secuencia de adicion de productos\",order_products[\"add_to_cart_order\"].max())\n"
   ]
  },
  {
   "cell_type": "markdown",
   "id": "-Z2Ja215jW78",
   "metadata": {
    "id": "-Z2Ja215jW78"
   },
   "source": [
    "Describe brevemente cuáles son tus hallazgos.\n",
    "* Se reviso el valor minimo de la secuencia para añadir productos al carrito, el cual es 1 como se esperaba, y el maximo ha sido 64, lo que significa que algun cliente ha añadido hasta 64 productos en su pedido hasta el momento."
   ]
  },
  {
   "cell_type": "code",
   "execution_count": null,
   "id": "ab9d0c2b",
   "metadata": {
    "id": "ab9d0c2b",
    "scrolled": true
   },
   "outputs": [
    {
     "name": "stdout",
     "output_type": "stream",
     "text": [
      "737        2449164\n",
      "9926       1968313\n",
      "14394      2926893\n",
      "16418      1717990\n",
      "30114      1959075\n",
      "            ...   \n",
      "4505662    1800005\n",
      "4511400    1633337\n",
      "4517562     404157\n",
      "4534112    1673227\n",
      "4535739    1832957\n",
      "Name: order_id, Length: 836, dtype: int64\n"
     ]
    }
   ],
   "source": [
    "# Guarda todas las IDs de pedidos que tengan un valor ausente en 'add_to_cart_order'\n",
    "#print(order_products[order_products[\"add_to_cart_order\"].isna()]) # visualizo los valores ausentes en add_to_cart_order\n",
    "#nan_order = order_products[order_products[\"add_to_cart_order\"].isna()] # guardo todos los que tengan valores ausentes en add_to_cart_order\n",
    "\n",
    "nan_order = order_products[order_products[\"add_to_cart_order\"].isna()][\"order_id\"]\n",
    "print(nan_order)\n",
    "\n"
   ]
  },
  {
   "cell_type": "code",
   "execution_count": null,
   "id": "54c31695",
   "metadata": {
    "id": "54c31695",
    "scrolled": true
   },
   "outputs": [
    {
     "name": "stdout",
     "output_type": "stream",
     "text": [
      "order_id\n",
      "9310        65\n",
      "61355      127\n",
      "102236      95\n",
      "129627      69\n",
      "165801      70\n",
      "          ... \n",
      "2999801     70\n",
      "3125735     86\n",
      "3308010    115\n",
      "3347453     71\n",
      "3383594     69\n",
      "Name: product_id, Length: 70, dtype: int64\n",
      "\n",
      "65\n"
     ]
    }
   ],
   "source": [
    "# ¿Todos los pedidos con valores ausentes tienen más de 64 productos?\n",
    "# Agrupa todos los pedidos con datos ausentes por su ID de pedido.\n",
    "# Cuenta el número de 'product_id' en cada pedido y revisa el valor mínimo del conteo.\n",
    "#nan_order_id = nan_order.groupby(\"order_id\") # agrupo por order_id\n",
    "#print(nan_order_id[\"product_id\"].count()) # cuento el numero de product id en cada pedido\n",
    "#print()\n",
    "#print(nan_order_id[\"product_id\"].count().min())#REviso el valor minimo del conteo\n",
    "order_id_grp = order_products[order_products['order_id'].isin(nan_order)]\n",
    "\n",
    "nan_order_id = order_id_grp.groupby(\"order_id\")\n",
    "print(nan_order_id[\"product_id\"].count()) # cuento el numero de product id en cada pedido\n",
    "print()\n",
    "print(nan_order_id[\"product_id\"].count().min())#REviso el valor minimo del conteo\n",
    "\n",
    "\n"
   ]
  },
  {
   "cell_type": "markdown",
   "id": "p9V6pddtjglj",
   "metadata": {
    "id": "p9V6pddtjglj"
   },
   "source": [
    "Describe brevemente cuáles son tus hallazgos.\n",
    "* En efecto todos los productos con valores ausentes tienen un conteo de pedido igual o superior a 65."
   ]
  },
  {
   "cell_type": "code",
   "execution_count": null,
   "id": "7a987d08",
   "metadata": {
    "id": "7a987d08"
   },
   "outputs": [
    {
     "name": "stdout",
     "output_type": "stream",
     "text": [
      "Empty DataFrame\n",
      "Columns: [order_id, product_id, add_to_cart_order, reordered]\n",
      "Index: []\n",
      "order_id             int64\n",
      "product_id           int64\n",
      "add_to_cart_order    int64\n",
      "reordered            int64\n",
      "dtype: object\n"
     ]
    }
   ],
   "source": [
    "# Remplaza los valores ausentes en la columna 'add_to_cart? con 999 y convierte la columna al tipo entero.\n",
    "order_products[\"add_to_cart_order\" ]= order_products[\"add_to_cart_order\"].fillna(999) # remplaz los valores ausentes con 999\n",
    "order_products[\"add_to_cart_order\" ]= order_products[\"add_to_cart_order\"].astype(\"int\") # cambio el tipo de columna a int\n",
    "print(order_products[order_products[\"add_to_cart_order\"].isna()]) #confirmo que ya no hay valores ausentes\n",
    "print(order_products.dtypes)# compruebo que los tipos de datos sean enteros\n",
    "\n",
    "\n"
   ]
  },
  {
   "cell_type": "markdown",
   "id": "fea4bcc7",
   "metadata": {
    "id": "fea4bcc7"
   },
   "source": [
    "Describe brevemente tus hallazgos y lo que hiciste con ellos.\n",
    "* Se decubrio que los valores ausentes para los pedidos eran debido a que no habia ninguna pedido anterior cuando el pedido era el número 1. Por lo que se le asigno el valor 999"
   ]
  },
  {
   "cell_type": "markdown",
   "id": "RnplPFY1gSrb",
   "metadata": {
    "id": "RnplPFY1gSrb"
   },
   "source": [
    "## Conclusiones\n",
    "\n",
    "Escribe aquí tus conclusiones intermedias sobre el Paso 2. Preprocesamiento de los datos\n",
    "* Al finalizar el preprocesamiento de los datos, ahora estamos seguros que ya no hay valores duplicados ni ausentes, y en algunos casos donde eran falsos positivos, sabemos que estan bien los datos\n"
   ]
  },
  {
   "cell_type": "markdown",
   "id": "UjrOIwTcz3ri",
   "metadata": {
    "id": "UjrOIwTcz3ri"
   },
   "source": [
    "# Paso 3. Análisis de los datos\n",
    "\n",
    "Una vez los datos estén procesados y listos, haz el siguiente análisis:"
   ]
  },
  {
   "cell_type": "markdown",
   "id": "turkish-kidney",
   "metadata": {
    "id": "turkish-kidney"
   },
   "source": [
    "# [A] Fácil (deben completarse todos para aprobar)\n",
    "\n",
    "1. Verifica que los valores en las columnas `'order_hour_of_day'` y `'order_dow'` en la tabla orders sean razonables (es decir, `'order_hour_of_day'` oscile entre 0 y 23 y `'order_dow'` oscile entre 0 y 6).\n",
    "2. Crea un gráfico que muestre el número de personas que hacen pedidos dependiendo de la hora del día.\n",
    "3. Crea un gráfico que muestre qué día de la semana la gente hace sus compras.\n",
    "4. Crea un gráfico que muestre el tiempo que la gente espera hasta hacer su siguiente pedido, y comenta sobre los valores mínimos y máximos."
   ]
  },
  {
   "cell_type": "markdown",
   "id": "short-capability",
   "metadata": {
    "id": "short-capability"
   },
   "source": [
    "### [A1] Verifica que los valores sean sensibles"
   ]
  },
  {
   "cell_type": "code",
   "execution_count": null,
   "id": "growing-fruit",
   "metadata": {
    "id": "growing-fruit"
   },
   "outputs": [
    {
     "name": "stdout",
     "output_type": "stream",
     "text": [
      "Horario de pedidos de 0 a 23\n",
      "Dias de pedidos del 0 a 6\n"
     ]
    }
   ],
   "source": [
    "print(\"Horario de pedidos de\" , instacart_orders[\"order_hour_of_day\"].min(),\"a\" ,instacart_orders[\"order_hour_of_day\"].max())#verifico que las horas del dia\n",
    "print(\"Dias de pedidos del\",instacart_orders[\"order_dow\"].min(), \"a\" ,instacart_orders[\"order_dow\"].max())\n",
    "\n",
    "                     "
   ]
  },
  {
   "cell_type": "markdown",
   "id": "hmR2GNQ6lCsX",
   "metadata": {
    "id": "hmR2GNQ6lCsX"
   },
   "source": [
    "Escribe aquí tus conclusiones\n",
    "* Las horas con mas pedidos son las 10 y 11 de la mañana\n",
    "  Los dias con mas clientes son los domingos y los lunes\n",
    "  Los clientes suelen esperar X dias antes de su siguiente pedido"
   ]
  },
  {
   "cell_type": "markdown",
   "id": "a6743a70",
   "metadata": {
    "id": "a6743a70"
   },
   "source": [
    "### [A2] Para cada hora del día, ¿cuántas personas hacen órdenes?"
   ]
  },
  {
   "cell_type": "code",
   "execution_count": null,
   "id": "a36cca27",
   "metadata": {
    "id": "a36cca27"
   },
   "outputs": [
    {
     "data": {
      "text/plain": [
       "<AxesSubplot:title={'center':'Users per hour '}, xlabel='order_hour_of_day', ylabel='# of users'>"
      ]
     },
     "execution_count": 36,
     "metadata": {},
     "output_type": "execute_result"
    },
    {
     "data": {
      "image/png": "[encoded data removed]",
      "text/plain": [
       "<Figure size 432x288 with 1 Axes>"
      ]
     },
     "metadata": {
      "needs_background": "light"
     },
     "output_type": "display_data"
    }
   ],
   "source": [
    "#print(instacart_orders.groupby([\"order_hour_of_day\"])[\"user_id\"].count())\n",
    "users_per_hour = instacart_orders.groupby([\"order_hour_of_day\"])[\"user_id\"].count()\n",
    "\n",
    "users_per_hour.plot(kind=\"bar\", ylabel=\"# of users\", title = \"Users per hour \")\n",
    "#instacart_orders.plot(title='Clientes con pedidos por hora del dia',\n",
    "#        x='order_hour_of_day',\n",
    "#        y='count',\n",
    "#        kind=\"bar\",       \n",
    "#        xlabel='Hora del día',\n",
    "#        ylabel='Clientes con pedidos',\n",
    "#        rot=45) \n",
    "\n",
    "\n",
    "#plt.show()"
   ]
  },
  {
   "cell_type": "markdown",
   "id": "11270eed",
   "metadata": {
    "id": "11270eed"
   },
   "source": [
    "Escribe aquí tus conclusiones\n",
    "* A partir delas 7 am empiezan a aumentar los pedidos a decenas de miles, luego las horas horas con mas pedidos son la 10hr y 11hr de la mañana de 12hr a 16hr no hay mucha variacion y a partir de las 17hr empiezan a disminuir y a partir de las 22hrs vuelven al rango de miles."
   ]
  },
  {
   "cell_type": "markdown",
   "id": "documented-command",
   "metadata": {
    "id": "documented-command"
   },
   "source": [
    "### [A3] ¿Qué día de la semana compran víveres las personas?"
   ]
  },
  {
   "cell_type": "code",
   "execution_count": null,
   "id": "chief-digit",
   "metadata": {
    "id": "chief-digit"
   },
   "outputs": [
    {
     "data": {
      "text/plain": [
       "<AxesSubplot:title={'center':'Orders per day '}, xlabel='order_dow', ylabel='# of orders'>"
      ]
     },
     "execution_count": 37,
     "metadata": {},
     "output_type": "execute_result"
    },
    {
     "data": {
      "image/png": "[encoded data removed]",
      "text/plain": [
       "<Figure size 432x288 with 1 Axes>"
      ]
     },
     "metadata": {
      "needs_background": "light"
     },
     "output_type": "display_data"
    }
   ],
   "source": [
    "#print(instacart_orders.groupby([\"order_dow\"])[\"user_id\"].count())\n",
    "\n",
    "orders_days = instacart_orders.groupby([\"order_dow\"])[\"user_id\"].count()\n",
    "\n",
    "orders_days.plot(kind=\"bar\", ylabel=\"# of orders\", title = \"Orders per day \")\n",
    "\n",
    "#instacart_orders.plot(title='Clientes por dia',\n",
    "#        x='order_dow',\n",
    "#        y='user_id',\n",
    "#        kind=\"bar\",       \n",
    "#        xlabel='Día',\n",
    "#        ylabel='Clientes',\n",
    "#        rot=45) \n",
    "\n",
    "\n",
    "#plt.show()\n"
   ]
  },
  {
   "cell_type": "markdown",
   "id": "dominant-lightning",
   "metadata": {
    "id": "dominant-lightning"
   },
   "source": [
    "Escribe aquí tus conclusiones\n",
    "* Los dias con mas compras son el domingo y el lunes. El dia con menos compras es el jueves y los demas dias tienen casi la misma cantidad de compras."
   ]
  },
  {
   "cell_type": "markdown",
   "id": "cutting-concert",
   "metadata": {
    "id": "cutting-concert"
   },
   "source": [
    "### [A4] ¿Cuánto tiempo esperan las personas hasta hacer otro pedido? Comenta sobre los valores mínimos y máximos."
   ]
  },
  {
   "cell_type": "code",
   "execution_count": null,
   "id": "c231f523",
   "metadata": {
    "id": "c231f523"
   },
   "outputs": [
    {
     "data": {
      "text/plain": [
       "<AxesSubplot:title={'center':'# of days before next order'}, xlabel='days_since_prior_order', ylabel='# of orders'>"
      ]
     },
     "execution_count": 38,
     "metadata": {},
     "output_type": "execute_result"
    },
    {
     "data": {
      "image/png": "[encoded data removed]",
      "text/plain": [
       "<Figure size 432x288 with 1 Axes>"
      ]
     },
     "metadata": {
      "needs_background": "light"
     },
     "output_type": "display_data"
    }
   ],
   "source": [
    "#print( instacart_orders.groupby([\"days_since_prior_order\"])[\"user_id\"].count().sort_values())\n",
    "\n",
    "#next_order =  instacart_orders.groupby([\"days_since_prior_order\"])[\"user_id\"].count().sort_values()\n",
    "next_order =  instacart_orders.groupby([\"days_since_prior_order\"])[\"user_id\"].count().sort_index()\n",
    "#print(next_order)\n",
    "\n",
    "next_order.plot(kind=\"bar\", ylabel=\"# of orders\", title = \"# of days before next order\")\n",
    "\n",
    "#instacart_orders.plot(title='Días de espera hasta siguiente pedido',\n",
    "#        x='days_since_prior_order',\n",
    "#        y='oder_id',\n",
    "#        kind=\"bar\",       \n",
    "#        xlabel='Dias',\n",
    "#        ylabel='Pedidos',\n",
    "#        rot=45) \n",
    "\n",
    "\n",
    "#plt.show()\n",
    "\n",
    "\n",
    "\n"
   ]
  },
  {
   "cell_type": "markdown",
   "id": "discrete-vertex",
   "metadata": {
    "id": "discrete-vertex"
   },
   "source": [
    "Escribe aquí tus conclusiones\n",
    "* La mayoria de los clientes suelen esperar minimo 7 dias antes de su siguiente pedido y maximos 30 dias."
   ]
  },
  {
   "cell_type": "markdown",
   "id": "tight-staff",
   "metadata": {
    "id": "tight-staff"
   },
   "source": [
    "# [B] Intermedio (deben completarse todos para aprobar)\n",
    "\n",
    "1. ¿Existe alguna diferencia entre las distribuciones `'order_hour_of_day'` de los miércoles y los sábados? Traza gráficos de barra de `'order_hour_of_day'` para ambos días en la misma figura y describe las diferencias que observes.\n",
    "2. Grafica la distribución para el número de órdenes que hacen los clientes (es decir, cuántos clientes hicieron solo 1 pedido, cuántos hicieron 2, cuántos 3, y así sucesivamente...).\n",
    "3. ¿Cuáles son los 20 principales productos que se piden con más frecuencia (muestra su identificación y nombre)?"
   ]
  },
  {
   "cell_type": "markdown",
   "id": "packed-classic",
   "metadata": {
    "id": "packed-classic"
   },
   "source": [
    "### [B1] Diferencia entre miércoles y sábados para  `'order_hour_of_day'`. Traza gráficos de barra para los dos días y describe las diferencias que veas."
   ]
  },
  {
   "cell_type": "code",
   "execution_count": null,
   "id": "94e54e8a",
   "metadata": {
    "id": "94e54e8a"
   },
   "outputs": [
    {
     "name": "stdout",
     "output_type": "stream",
     "text": [
      "order_dow             3     6\n",
      "order_hour_of_day            \n",
      "0                   373   464\n",
      "1                   215   254\n",
      "2                   106   177\n",
      "3                   101   125\n",
      "4                   108   118\n",
      "5                   170   161\n",
      "6                   643   451\n",
      "7                  1732  1619\n",
      "8                  3125  3246\n",
      "9                  4490  4311\n",
      "10                 5026  4919\n",
      "11                 5004  5116\n",
      "12                 4688  5132\n",
      "13                 4674  5323\n",
      "14                 4774  5375\n",
      "15                 5163  5188\n",
      "16                 4976  5029\n",
      "17                 4175  4295\n",
      "18                 3463  3338\n",
      "19                 2652  2610\n",
      "20                 1917  1847\n",
      "21                 1450  1473\n",
      "22                 1154  1185\n",
      "23                  718   893\n"
     ]
    }
   ],
   "source": [
    "#wed_orders= instacart_orders[instacart_orders[\"order_dow\"]==3]\n",
    "#print(wed_orders)\n",
    "#print( wed_orders.groupby([\"order_hour_of_day\"])[\"order_id\"].count().sort_values())\n",
    "#sat_orders= instacart_orders[instacart_orders[\"order_dow\"]==6]\n",
    "#print(wed_orders)\n",
    "#print( sat_orders.groupby([\"order_hour_of_day\"])[\"order_id\"].count().sort_values())\n",
    "days = [3 , 6]\n",
    "wed_sat_orders = instacart_orders[instacart_orders[\"order_dow\"].isin(days)][[\"order_hour_of_day\", \"order_dow\",\"order_id\"]]\n",
    "# print(wed_sat_orders)\n",
    "pivot_days_table = wed_sat_orders.pivot_table(index='order_hour_of_day',\n",
    "                            columns='order_dow',\n",
    "                            values='order_id',\n",
    "                            aggfunc='count'\n",
    "                           )\n",
    "print(pivot_days_table)"
   ]
  },
  {
   "cell_type": "code",
   "execution_count": null,
   "id": "33d5860c",
   "metadata": {},
   "outputs": [
    {
     "data": {
      "image/png": "[encoded data removed]",
      "text/plain": [
       "<Figure size 432x288 with 1 Axes>"
      ]
     },
     "metadata": {
      "needs_background": "light"
     },
     "output_type": "display_data"
    }
   ],
   "source": [
    "pivot_days_table.plot(kind=\"bar\", ylabel=\"# of orders\", title = \" Cantidad de pedidos por horario \")\n",
    "plt.show()"
   ]
  },
  {
   "cell_type": "markdown",
   "id": "charitable-congo",
   "metadata": {
    "id": "charitable-congo"
   },
   "source": [
    "Escribe aquí tus conclusiones\n",
    "* Se puede ver como para ambos dias la mayor cantidad de pedidos se hacen entre las 10 y las 16 hrs."
   ]
  },
  {
   "cell_type": "markdown",
   "id": "e3891143",
   "metadata": {
    "id": "e3891143"
   },
   "source": [
    "### [B2] ¿Cuál es la distribución para el número de pedidos por cliente?"
   ]
  },
  {
   "cell_type": "code",
   "execution_count": null,
   "id": "d8c26c23",
   "metadata": {
    "id": "d8c26c23"
   },
   "outputs": [
    {
     "data": {
      "text/plain": [
       "<AxesSubplot:title={'center':' Distribucion de # de pedidos por cliente'}, ylabel='Frequency'>"
      ]
     },
     "execution_count": 41,
     "metadata": {},
     "output_type": "execute_result"
    },
    {
     "data": {
      "image/png": "[encoded data removed]",
      "text/plain": [
       "<Figure size 432x288 with 1 Axes>"
      ]
     },
     "metadata": {
      "needs_background": "light"
     },
     "output_type": "display_data"
    }
   ],
   "source": [
    "instacart_orders[\"order_number\"].plot(kind=\"hist\", bins= 50, title =\" Distribucion de # de pedidos por cliente\", ylabel=\"Pedidos\")"
   ]
  },
  {
   "cell_type": "markdown",
   "id": "d2eff7d5",
   "metadata": {
    "id": "d2eff7d5"
   },
   "source": [
    "Escribe aquí tus conclusiones\n",
    "* La mayoria de los clientes tienen mas de 100 pedidos "
   ]
  },
  {
   "cell_type": "markdown",
   "id": "54a0319c",
   "metadata": {
    "id": "54a0319c"
   },
   "source": [
    "### [B3] ¿Cuáles son los 20 productos más populares (muestra su ID y nombre)?"
   ]
  },
  {
   "cell_type": "code",
   "execution_count": null,
   "id": "exterior-arizona",
   "metadata": {
    "id": "exterior-arizona",
    "scrolled": true
   },
   "outputs": [
    {
     "name": "stdout",
     "output_type": "stream",
     "text": [
      "            order_id  add_to_cart_order  reordered\n",
      "product_id                                        \n",
      "24852          66050              66050      66050\n",
      "13176          53297              53297      53297\n",
      "21137          37039              37039      37039\n",
      "21903          33971              33971      33971\n",
      "47209          29773              29773      29773\n",
      "47766          24689              24689      24689\n",
      "47626          21495              21495      21495\n",
      "16797          20018              20018      20018\n",
      "26209          19690              19690      19690\n",
      "27845          19600              19600      19600\n",
      "27966          19197              19197      19197\n",
      "22935          15898              15898      15898\n",
      "24964          15292              15292      15292\n",
      "45007          14584              14584      14584\n",
      "39275          13879              13879      13879\n",
      "49683          13675              13675      13675\n",
      "28204          12544              12544      12544\n",
      "5876           12232              12232      12232\n",
      "8277           11993              11993      11993\n",
      "40706          11781              11781      11781\n",
      "\n",
      "       product_id              product_name\n",
      "5875         5876             ORGANIC LEMON\n",
      "8276         8277  APPLE HONEYCRISP ORGANIC\n",
      "13175       13176    BAG OF ORGANIC BANANAS\n",
      "16796       16797              STRAWBERRIES\n",
      "21136       21137      ORGANIC STRAWBERRIES\n",
      "21902       21903      ORGANIC BABY SPINACH\n",
      "22934       22935      ORGANIC YELLOW ONION\n",
      "24851       24852                    BANANA\n",
      "24963       24964            ORGANIC GARLIC\n",
      "26208       26209                     LIMES\n",
      "27844       27845        ORGANIC WHOLE MILK\n",
      "27965       27966       ORGANIC RASPBERRIES\n",
      "28203       28204        ORGANIC FUJI APPLE\n",
      "39274       39275       ORGANIC BLUEBERRIES\n",
      "40705       40706    ORGANIC GRAPE TOMATOES\n",
      "45006       45007          ORGANIC ZUCCHINI\n",
      "47208       47209      ORGANIC HASS AVOCADO\n",
      "47625       47626               LARGE LEMON\n",
      "47765       47766           ORGANIC AVOCADO\n",
      "49682       49683            CUCUMBER KIRBY\n"
     ]
    }
   ],
   "source": [
    "print(order_products.groupby([\"product_id\"]).count().sort_values(by=\"reordered\", ascending=False).head(20))# extraigo la lista de los 20 productos mas pedidos\n",
    "\n",
    "products_id = [24852,13176,21137,21903,47209,47766,47626,16797,26209,27845,27966,22935,24964,45007,39275,49683,28204,5876,8277,40706]# asigno la lista de ids del tp 20\n",
    "print()\n",
    "print(products[products[\"product_id\"].isin(products_id)][[\"product_id\",\"product_name\"]])# busco el tops 20 en la lista de productos para saber su nombre\n"
   ]
  },
  {
   "cell_type": "markdown",
   "id": "7df00f47",
   "metadata": {
    "id": "7df00f47"
   },
   "source": [
    "Escribe aquí tus conclusiones\n",
    "* Todo indica que las frutas y verduras son el top 20, sobre todo las organicas"
   ]
  },
  {
   "cell_type": "markdown",
   "id": "gross-theme",
   "metadata": {
    "id": "gross-theme"
   },
   "source": [
    "# [C] Difícil (deben completarse todos para aprobar)\n",
    "\n",
    "1. ¿Cuántos artículos suelen comprar las personas en un pedido? ¿Cómo es la distribución?\n",
    "2. ¿Cuáles son los 20 principales artículos que vuelven a pedirse con mayor frecuencia (muestra sus nombres e IDs de los productos)?\n",
    "3. Para cada producto, ¿cuál es la tasa de repetición del pedido (número de repeticiones de pedido/total de pedidos?\n",
    "4. Para cada cliente, ¿qué proporción de los productos que pidió ya los había pedido? Calcula la tasa de repetición de pedido para cada usuario en lugar de para cada producto.\n",
    "5. ¿Cuáles son los 20 principales artículos que la gente pone primero en sus carritos (muestra las IDs de los productos, sus nombres, y el número de veces en que fueron el primer artículo en añadirse al carrito)?"
   ]
  },
  {
   "cell_type": "markdown",
   "id": "romantic-deposit",
   "metadata": {
    "id": "romantic-deposit"
   },
   "source": [
    "### [C1] ¿Cuántos artículos compran normalmente las personas en un pedido? ¿Cómo es la distribución?"
   ]
  },
  {
   "cell_type": "code",
   "execution_count": null,
   "id": "virtual-punch",
   "metadata": {
    "id": "virtual-punch"
   },
   "outputs": [
    {
     "name": "stdout",
     "output_type": "stream",
     "text": [
      "8.533887406554049\n"
     ]
    },
    {
     "data": {
      "text/plain": [
       "<AxesSubplot:title={'center':' Distribucion de # de articulos por pedido'}, ylabel='Frequency'>"
      ]
     },
     "execution_count": 43,
     "metadata": {},
     "output_type": "execute_result"
    },
    {
     "data": {
      "image/png": "[encoded data removed]",
      "text/plain": [
       "<Figure size 432x288 with 1 Axes>"
      ]
     },
     "metadata": {
      "needs_background": "light"
     },
     "output_type": "display_data"
    }
   ],
   "source": [
    "print(order_products[\"add_to_cart_order\"].mean())\n",
    "products_dist = order_products.groupby(\"order_id\")[\"product_id\"].count()\n",
    "\n",
    "products_dist.plot(kind=\"hist\", bins= 50, title =\" Distribucion de # de articulos por pedido\", ylabel=\"Pedidos\")"
   ]
  },
  {
   "cell_type": "markdown",
   "id": "designed-mortality",
   "metadata": {
    "id": "designed-mortality"
   },
   "source": [
    "Escribe aquí tus conclusiones\n",
    "* En promedio las personas suelen comprar 8 articulos por pedido"
   ]
  },
  {
   "cell_type": "markdown",
   "id": "5e6b5537",
   "metadata": {
    "id": "5e6b5537"
   },
   "source": [
    "### [C2] ¿Cuáles son los 20 principales artículos que vuelven a pedirse con mayor frecuencia (muestra sus nombres e IDs de los productos)?"
   ]
  },
  {
   "cell_type": "code",
   "execution_count": null,
   "id": "9374e55a",
   "metadata": {
    "id": "9374e55a"
   },
   "outputs": [
    {
     "name": "stdout",
     "output_type": "stream",
     "text": [
      "       product_id              product_name\n",
      "5875         5876             ORGANIC LEMON\n",
      "8276         8277  APPLE HONEYCRISP ORGANIC\n",
      "13175       13176    BAG OF ORGANIC BANANAS\n",
      "16796       16797              STRAWBERRIES\n",
      "21136       21137      ORGANIC STRAWBERRIES\n",
      "21902       21903      ORGANIC BABY SPINACH\n",
      "22934       22935      ORGANIC YELLOW ONION\n",
      "24851       24852                    BANANA\n",
      "24963       24964            ORGANIC GARLIC\n",
      "26208       26209                     LIMES\n",
      "27844       27845        ORGANIC WHOLE MILK\n",
      "27965       27966       ORGANIC RASPBERRIES\n",
      "28203       28204        ORGANIC FUJI APPLE\n",
      "39274       39275       ORGANIC BLUEBERRIES\n",
      "45006       45007          ORGANIC ZUCCHINI\n",
      "47208       47209      ORGANIC HASS AVOCADO\n",
      "47625       47626               LARGE LEMON\n",
      "47765       47766           ORGANIC AVOCADO\n",
      "49234       49235       ORGANIC HALF & HALF\n",
      "49682       49683            CUCUMBER KIRBY\n"
     ]
    }
   ],
   "source": [
    "order_products_top = order_products[order_products[\"reordered\"]==1]\n",
    "#print(order_products_top)\n",
    "#print(order_products.groupby([\"product_id\"]).count().sort_values(by=\"reordered\", ascending=False).head(20))# extraigo la lista de los 20 productos mas pedidos\n",
    "top_20 = order_products_top.groupby([\"product_id\"]).count().sort_values(by=\"reordered\", ascending=False).head(20)[\"order_id\"]\n",
    "#products_id = [24852,13176,21137,21903,47209,47766,47626,16797,26209,27845,27966,22935,24964,45007,39275,49683,28204,5876,8277,40706]# asigno la lista de ids del tp 20\n",
    "#print(top_20)\n",
    "print(products[products[\"product_id\"].isin(top_20.index)][[\"product_id\",\"product_name\"]])# busco el tops 20 en la lista de productos para saber su nombre\n"
   ]
  },
  {
   "cell_type": "markdown",
   "id": "80e70c74",
   "metadata": {
    "id": "80e70c74"
   },
   "source": [
    "Escribe aquí tus conclusiones\n",
    "\n",
    "* El top 20 es un conjunto en su mayoria de productos organicos"
   ]
  },
  {
   "cell_type": "markdown",
   "id": "9d312b14",
   "metadata": {
    "id": "9d312b14"
   },
   "source": [
    "### [C3] Para cada producto, ¿cuál es la proporción de las veces que se pide y que se vuelve a pedir?"
   ]
  },
  {
   "cell_type": "code",
   "execution_count": null,
   "id": "8ae9f4b1",
   "metadata": {
    "id": "8ae9f4b1"
   },
   "outputs": [
    {
     "name": "stdout",
     "output_type": "stream",
     "text": [
      "product_id\n",
      "1        0.564286\n",
      "2        0.000000\n",
      "3        0.738095\n",
      "4        0.510204\n",
      "7        0.500000\n",
      "           ...   \n",
      "49690    0.800000\n",
      "49691    0.430556\n",
      "49692    0.416667\n",
      "49693    0.440000\n",
      "49694    0.333333\n",
      "Name: reordered, Length: 45573, dtype: float64\n"
     ]
    }
   ],
   "source": [
    "print(order_products.groupby([\"product_id\"]).mean()[\"reordered\"])"
   ]
  },
  {
   "cell_type": "markdown",
   "id": "I10dEIAyldcO",
   "metadata": {
    "id": "I10dEIAyldcO"
   },
   "source": [
    "Escribe aquí tus conclusiones\n",
    "* Los productos con el valor de reordered mas cercano a 1 son los que se suelen pedir con mas frecuencia"
   ]
  },
  {
   "cell_type": "markdown",
   "id": "subject-boxing",
   "metadata": {
    "id": "subject-boxing"
   },
   "source": [
    "### [C4] Para cada cliente, ¿qué proporción de sus productos ya los había pedido?"
   ]
  },
  {
   "cell_type": "code",
   "execution_count": null,
   "id": "medical-couple",
   "metadata": {
    "id": "medical-couple",
    "scrolled": true
   },
   "outputs": [
    {
     "name": "stdout",
     "output_type": "stream",
     "text": [
      "user_id\n",
      "2         0.038462\n",
      "4         0.000000\n",
      "5         0.666667\n",
      "6         0.000000\n",
      "7         0.928571\n",
      "            ...   \n",
      "206203    0.222222\n",
      "206206    0.714286\n",
      "206207    0.891304\n",
      "206208    0.696000\n",
      "206209    0.320000\n",
      "Name: reordered, Length: 149626, dtype: float64\n"
     ]
    }
   ],
   "source": [
    "#print(order_products.groupby(\"order_id\")[\"reordered\"].mean())\n",
    "orders_and_oproducts = instacart_orders.merge(order_products ,on =\"order_id\")\n",
    "#print(orders_and_oproducts)\n",
    "print(orders_and_oproducts.groupby(\"user_id\")[\"reordered\"].mean())\n"
   ]
  },
  {
   "cell_type": "markdown",
   "id": "BgJSvXDsleXz",
   "metadata": {
    "id": "BgJSvXDsleXz"
   },
   "source": [
    "Escribe aquí tus conclusiones\n",
    "* Hay varios clientes que nunca habian pedido ciertos productos mientras que hay otros que suelen repetir sus productos ( los que tienen valor de 1)"
   ]
  },
  {
   "cell_type": "markdown",
   "id": "92d35137",
   "metadata": {
    "id": "92d35137"
   },
   "source": [
    "### [C5] ¿Cuáles son los 20 principales artículos que las personas ponen primero en sus carritos?"
   ]
  },
  {
   "cell_type": "code",
   "execution_count": null,
   "id": "0ae57274",
   "metadata": {
    "id": "0ae57274",
    "scrolled": true
   },
   "outputs": [
    {
     "name": "stdout",
     "output_type": "stream",
     "text": [
      "            order_id  add_to_cart_order  reordered\n",
      "product_id                                        \n",
      "24852          15562              15562      15562\n",
      "13176          11026              11026      11026\n",
      "27845           4363               4363       4363\n",
      "21137           3946               3946       3946\n",
      "47209           3390               3390       3390\n",
      "21903           3336               3336       3336\n",
      "47766           3044               3044       3044\n",
      "19660           2336               2336       2336\n",
      "16797           2308               2308       2308\n",
      "27966           2024               2024       2024\n",
      "44632           1914               1914       1914\n",
      "49235           1797               1797       1797\n",
      "47626           1737               1737       1737\n",
      "196             1733               1733       1733\n",
      "38689           1397               1397       1397\n",
      "26209           1370               1370       1370\n",
      "12341           1340               1340       1340\n",
      "5785            1310               1310       1310\n",
      "27086           1309               1309       1309\n",
      "43352           1246               1246       1246\n",
      "       product_id                 product_name\n",
      "195           196                         SODA\n",
      "5784         5785  ORGANIC REDUCED FAT 2% MILK\n",
      "12340       12341                HASS AVOCADOS\n",
      "13175       13176       BAG OF ORGANIC BANANAS\n",
      "16796       16797                 STRAWBERRIES\n",
      "19659       19660                 SPRING WATER\n",
      "21136       21137         ORGANIC STRAWBERRIES\n",
      "21902       21903         ORGANIC BABY SPINACH\n",
      "24851       24852                       BANANA\n",
      "26208       26209                        LIMES\n",
      "27085       27086                  HALF & HALF\n",
      "27844       27845           ORGANIC WHOLE MILK\n",
      "27965       27966          ORGANIC RASPBERRIES\n",
      "38688       38689     ORGANIC REDUCED FAT MILK\n",
      "43351       43352                  RASPBERRIES\n",
      "44631       44632   SPARKLING WATER GRAPEFRUIT\n",
      "47208       47209         ORGANIC HASS AVOCADO\n",
      "47625       47626                  LARGE LEMON\n",
      "47765       47766              ORGANIC AVOCADO\n",
      "49234       49235          ORGANIC HALF & HALF\n"
     ]
    }
   ],
   "source": [
    "op = order_products\n",
    "first = op[(op[\"add_to_cart_order\"]==1)]# identifico solo los productos que se pusieron primero\n",
    "print(first.groupby(\"product_id\").count().sort_values(by=\"reordered\", ascending=False).head(20))# agrupo por id del producto de solo lso que se pusieron primero y cuento cuantas veces aparecieron\n",
    "top20_1st = [196,5785,12341,13176,16797,19660,21137,21903,24852,26209,27086,27845,27966,38689,43352,44632,47209,47626,47766,49235]\n",
    "print(products[products[\"product_id\"].isin(top20_1st)][[\"product_id\",\"product_name\"]])\n"
   ]
  },
  {
   "cell_type": "markdown",
   "id": "28ce9872",
   "metadata": {
    "id": "28ce9872"
   },
   "source": [
    "Escribe aquí tus conclusiones\n",
    "* Parece ser que los productos que primero ingresan al carrito son leche, berries, avocados y bananas, entre otras verduras y agua"
   ]
  },
  {
   "cell_type": "markdown",
   "id": "uITbFCEoDosC",
   "metadata": {
    "id": "uITbFCEoDosC"
   },
   "source": [
    "### Conclusion general del proyecto:\n",
    "\n",
    "#### \n",
    "Gracias al analisis y preporcesamiento de datos, se pudo limpiar y dar el formato adecuado a cada conjunto de datos. Para despues poder hacer los analisis correspondientes. Observando que los dias con mas compras son Domingo y Lunes, asi como las horas de 10 a 16hr. Y que los productos organicos son los mas comprados."
   ]
  }
 ],
 "metadata": {
  "colab": {
   "provenance": []
  },
  "kernelspec": {
   "display_name": "Python 3 (ipykernel)",
   "language": "python",
   "name": "python3"
  },
  "language_info": {
   "codemirror_mode": {
    "name": "ipython",
    "version": 3
   },
   "file_extension": ".py",
   "mimetype": "text/x-python",
   "name": "python",
   "nbconvert_exporter": "python",
   "pygments_lexer": "ipython3",
   "version": "3.9.19"
  },
  "toc": {
   "base_numbering": 1,
   "nav_menu": {},
   "number_sections": true,
   "sideBar": true,
   "skip_h1_title": true,
   "title_cell": "Table of Contents",
   "title_sidebar": "Contents",
   "toc_cell": false,
   "toc_position": {},
   "toc_section_display": true,
   "toc_window_display": false
  },
  "vscode": {
   "interpreter": {
    "hash": "01a7be9ec63e704a62cefc5fe7a4756944464ee731be31632bdf42a4cb4688cf"
   }
  }
 },
 "nbformat": 4,
 "nbformat_minor": 5
}
